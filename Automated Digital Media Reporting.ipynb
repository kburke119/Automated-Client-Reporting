{
 "cells": [
  {
   "cell_type": "code",
   "execution_count": null,
   "id": "617ddded",
   "metadata": {
    "scrolled": false
   },
   "outputs": [],
   "source": [
    "import pandas as pd\n",
    "\n",
    "# CSV file for client reporting \n",
    "client_data_to_load = \"./Test_Data.csv\"\n",
    "\n",
    "# Read the CSV file and store into Pandas DataFrames\n",
    "client_reporting = pd.read_csv(client_data_to_load)"
   ]
  },
  {
   "cell_type": "code",
   "execution_count": null,
   "id": "aea635cb",
   "metadata": {},
   "outputs": [],
   "source": [
    "# Campaign High Level Totals\n",
    "\n",
    "clicks = client_reporting[\"Clicks\"].sum()\n",
    "impressions = client_reporting[\"Impressions\"].sum()\n",
    "spend = client_reporting[\"Spend\"].sum()"
   ]
  },
  {
   "cell_type": "code",
   "execution_count": null,
   "id": "7f69af4f",
   "metadata": {
    "scrolled": true
   },
   "outputs": [],
   "source": [
    "# Campaign Level Reporting\n",
    "\n",
    "impressions_campaign = client_reporting.groupby([\"Campaign Name\"]).sum()[\"Impressions\"]\n",
    "clicks_campaign = client_reporting.groupby([\"Campaign Name\"]).sum()[\"Clicks\"]\n",
    "spend_campaign = client_reporting.groupby([\"Campaign Name\"]).sum()[\"Spend\"]\n",
    "conversions_campaign = client_reporting.groupby([\"Campaign Name\"]).sum()[\"Conversions\"]\n",
    "average_frequency_campaign = client_reporting.groupby([\"Campaign Name\"]).mean()[\"Average Frequency\"]\n",
    "average_reach_campaign = client_reporting.groupby([\"Campaign Name\"]).sum()[\"Average Reach\"]\n",
    "revenue_campaign = client_reporting.groupby([\"Campaign Name\"]).sum()[\"Revenue\"]\n",
    "\n",
    "ctr = clicks_campaign / impressions_campaign\n",
    "conversion_rate = conversions_campaign / impressions_campaign\n",
    "cpm = (spend_campaign / impressions_campaign) * 1000\n",
    "cpc = spend_campaign / clicks_campaign\n",
    "cpa = spend_campaign / conversions_campaign"
   ]
  },
  {
   "cell_type": "code",
   "execution_count": null,
   "id": "2a8e66b2",
   "metadata": {
    "scrolled": true
   },
   "outputs": [],
   "source": [
    "campaign_summary = pd.DataFrame(\n",
    "    {\n",
    "        \"Impressions\": impressions_campaign,\n",
    "        \"Clicks\": clicks_campaign,\n",
    "        \"CTR\": ctr,\n",
    "        \"Spend\": spend_campaign,\n",
    "        \"CPM\": cpm,\n",
    "        \"CPC\": cpc,\n",
    "        \"Conversions\": conversions_campaign,\n",
    "        \"Conversion Rate\": conversion_rate,\n",
    "        \"Average Frequency\": average_frequency_campaign,\n",
    "        \"Average Reach\": average_reach_campaign,\n",
    "        \"Revenue\": revenue_campaign\n",
    "        \n",
    "    }\n",
    ")\n",
    "campaign_summary[\"Impressions\"] = campaign_summary[\"Impressions\"].map(\"{:,.0f}\".format)\n",
    "campaign_summary[\"Clicks\"] = campaign_summary[\"Clicks\"].map(\"{:,.0f}\".format)\n",
    "campaign_summary[\"CTR\"] = campaign_summary[\"CTR\"].map(\"{:,.2%}\".format)\n",
    "campaign_summary[\"Spend\"] = campaign_summary[\"Spend\"].map(\"${:,.0f}\".format)\n",
    "campaign_summary[\"CPM\"] = campaign_summary[\"CPM\"].map(\"${:,.2f}\".format)\n",
    "campaign_summary[\"CPC\"] = campaign_summary[\"CPC\"].map(\"${:,.2f}\".format)\n",
    "campaign_summary[\"Conversions\"] = campaign_summary[\"Conversions\"].map(\"{:,.0f}\".format)\n",
    "campaign_summary[\"Conversion Rate\"] = campaign_summary[\"Conversion Rate\"].map(\"{:,.2%}\".format)\n",
    "campaign_summary[\"Average Frequency\"] = campaign_summary[\"Average Frequency\"].map(\"{:,.2f}\".format)\n",
    "campaign_summary[\"Average Reach\"] = campaign_summary[\"Average Reach\"].map(\"{:,.0f}\".format)\n",
    "campaign_summary[\"Revenue\"] = campaign_summary[\"Revenue\"].map(\"${:,.0f}\".format)\n",
    "\n",
    "campaign_summary"
   ]
  },
  {
   "cell_type": "code",
   "execution_count": null,
   "id": "5961b318",
   "metadata": {},
   "outputs": [],
   "source": [
    "# Audience Level Reporting\n",
    "\n",
    "impressions_audience = client_reporting.groupby([\"Audience Name\"]).sum()[\"Impressions\"]\n",
    "clicks_audience = client_reporting.groupby([\"Audience Name\"]).sum()[\"Clicks\"]\n",
    "spend_audience = client_reporting.groupby([\"Audience Name\"]).sum()[\"Spend\"]\n",
    "conversions_audience = client_reporting.groupby([\"Audience Name\"]).sum()[\"Conversions\"]\n",
    "average_frequency_audience = client_reporting.groupby([\"Audience Name\"]).mean()[\"Average Frequency\"]\n",
    "average_reach_audience = client_reporting.groupby([\"Audience Name\"]).sum()[\"Average Reach\"]\n",
    "revenue_audience = client_reporting.groupby([\"Audience Name\"]).sum()[\"Revenue\"]\n",
    "\n",
    "ctr = clicks_audience / impressions_audience\n",
    "conversion_rate = conversions_audience / impressions_audience\n",
    "cpm = (spend_audience / impressions_audience) * 1000\n",
    "cpc = spend_audience / clicks_audience\n",
    "cpa = spend_audience / conversions_audience"
   ]
  },
  {
   "cell_type": "code",
   "execution_count": null,
   "id": "15747764",
   "metadata": {
    "scrolled": false
   },
   "outputs": [],
   "source": [
    "audience_summary = pd.DataFrame(\n",
    "    {\n",
    "        \"Impressions\": impressions_audience,\n",
    "        \"Clicks\": clicks_audience,\n",
    "        \"CTR\": ctr,\n",
    "        \"Spend\": spend_audience,\n",
    "        \"CPM\": cpm,\n",
    "        \"CPC\": cpc,\n",
    "        \"Conversions\": conversions_audience,\n",
    "        \"Conversion Rate\": conversion_rate,\n",
    "        \"Average Frequency\": average_frequency_audience,\n",
    "        \"Average Reach\": average_reach_audience,\n",
    "        \"Revenue\": revenue_audience\n",
    "        \n",
    "    }\n",
    ")\n",
    "\n",
    "audience_summary[\"Impressions\"] = audience_summary[\"Impressions\"].map(\"{:,.0f}\".format)\n",
    "audience_summary[\"Clicks\"] = audience_summary[\"Clicks\"].map(\"{:,.0f}\".format)\n",
    "audience_summary[\"CTR\"] = audience_summary[\"CTR\"].map(\"{:,.2%}\".format)\n",
    "audience_summary[\"CPM\"] = audience_summary[\"CPM\"].map(\"${:,.2f}\".format)\n",
    "audience_summary[\"CPC\"] = audience_summary[\"CPC\"].map(\"${:,.2f}\".format)\n",
    "audience_summary[\"Spend\"] = audience_summary[\"Spend\"].map(\"${:,.0f}\".format)\n",
    "audience_summary[\"Conversion Rate\"] = audience_summary[\"Conversion Rate\"].map(\"{:,.2%}\".format)\n",
    "audience_summary[\"Average Frequency\"] = audience_summary[\"Average Frequency\"].map(\"{:,.2f}\".format)\n",
    "audience_summary[\"Average Reach\"] = audience_summary[\"Average Reach\"].map(\"{:,.0f}\".format)\n",
    "audience_summary[\"Revenue\"] = audience_summary[\"Revenue\"].map(\"${:,.0f}\".format)\n",
    "\n",
    "audience_summary"
   ]
  },
  {
   "cell_type": "code",
   "execution_count": null,
   "id": "c6f8a9ad",
   "metadata": {},
   "outputs": [],
   "source": [
    "# Creative Level Reporting\n",
    "\n",
    "impressions_creative = client_reporting.groupby([\"Creative Name\"]).sum()[\"Impressions\"]\n",
    "clicks_creative = client_reporting.groupby([\"Creative Name\"]).sum()[\"Clicks\"]\n",
    "spend_creative = client_reporting.groupby([\"Creative Name\"]).sum()[\"Spend\"]\n",
    "conversions_creative = client_reporting.groupby([\"Creative Name\"]).sum()[\"Conversions\"]\n",
    "average_frequency_creative = client_reporting.groupby([\"Creative Name\"]).mean()[\"Average Frequency\"]\n",
    "average_reach_creative = client_reporting.groupby([\"Creative Name\"]).sum()[\"Average Reach\"]\n",
    "revenue_creative = client_reporting.groupby([\"Creative Name\"]).sum()[\"Revenue\"]\n",
    "\n",
    "ctr = clicks_creative / impressions_creative\n",
    "conversion_rate = conversions_creative / impressions_creative\n",
    "cpm = (spend_creative / impressions_creative) * 1000\n",
    "cpc = spend_creative / clicks_creative\n",
    "cpa = spend_creative / conversions_creative"
   ]
  },
  {
   "cell_type": "code",
   "execution_count": null,
   "id": "401115fc",
   "metadata": {},
   "outputs": [],
   "source": [
    "creative_summary = pd.DataFrame(\n",
    "    {\n",
    "        \"Impressions\": impressions_creative,\n",
    "        \"Clicks\": clicks_creative,\n",
    "        \"CTR\": ctr,\n",
    "        \"Spend\": spend_creative,\n",
    "        \"CPM\": cpm,\n",
    "        \"CPC\": cpc,\n",
    "        \"Conversions\": conversions_creative,\n",
    "        \"Conversion Rate\": conversion_rate,\n",
    "        \"Average Frequency\": average_frequency_creative,\n",
    "        \"Average Reach\": average_reach_creative,\n",
    "        \"Revenue\": revenue_creative\n",
    "    }\n",
    ")\n",
    "\n",
    "creative_summary[\"Impressions\"] = creative_summary[\"Impressions\"].map(\"{:,.0f}\".format)\n",
    "creative_summary[\"Clicks\"] = creative_summary[\"Clicks\"].map(\"{:,.0f}\".format)\n",
    "creative_summary[\"CTR\"] = creative_summary[\"CTR\"].map(\"{:,.2%}\".format)\n",
    "creative_summary[\"CPM\"] = creative_summary[\"CPM\"].map(\"${:,.2f}\".format)\n",
    "creative_summary[\"CPC\"] = creative_summary[\"CPC\"].map(\"${:,.2f}\".format)\n",
    "creative_summary[\"Spend\"] = creative_summary[\"Spend\"].map(\"${:,.2f}\".format)\n",
    "creative_summary[\"Conversion Rate\"] = creative_summary[\"Conversion Rate\"].map(\"{:,.2%}\".format)\n",
    "creative_summary[\"Average Frequency\"] = creative_summary[\"Average Frequency\"].map(\"{:,.2f}\".format)\n",
    "creative_summary[\"Average Reach\"] = creative_summary[\"Average Reach\"].map(\"{:,.0f}\".format)\n",
    "creative_summary[\"Revenue\"] = creative_summary[\"Revenue\"].map(\"${:,.0f}\".format)\n",
    "\n",
    "creative_summary"
   ]
  },
  {
   "cell_type": "code",
   "execution_count": null,
   "id": "4ed3d26a",
   "metadata": {},
   "outputs": [],
   "source": [
    "# Export to Excel\n",
    "\n",
    "with pd.ExcelWriter('Client_Reporting.xlsx') as reporting:\n",
    "    campaign_summary.to_excel(reporting, sheet_name='Campaign')\n",
    "    audience_summary.to_excel(reporting, sheet_name='Audience')\n",
    "    creative_summary.to_excel(reporting, sheet_name='Creative')"
   ]
  },
  {
   "cell_type": "code",
   "execution_count": null,
   "id": "38ec7b54",
   "metadata": {},
   "outputs": [],
   "source": []
  }
 ],
 "metadata": {
  "kernelspec": {
   "display_name": "Python 3 (ipykernel)",
   "language": "python",
   "name": "python3"
  },
  "language_info": {
   "codemirror_mode": {
    "name": "ipython",
    "version": 3
   },
   "file_extension": ".py",
   "mimetype": "text/x-python",
   "name": "python",
   "nbconvert_exporter": "python",
   "pygments_lexer": "ipython3",
   "version": "3.9.13"
  }
 },
 "nbformat": 4,
 "nbformat_minor": 5
}
